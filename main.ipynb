{
 "cells": [
  {
   "cell_type": "code",
   "execution_count": 3,
   "id": "202b8993",
   "metadata": {},
   "outputs": [
    {
     "name": "stdout",
     "output_type": "stream",
     "text": [
      "Name: boto3\n",
      "Version: 1.40.18\n",
      "Summary: The AWS SDK for Python\n",
      "Home-page: https://github.com/boto/boto3\n",
      "Author: Amazon Web Services\n",
      "Author-email: \n",
      "License: Apache License 2.0\n",
      "Location: /Users/ryanakmalpasya/miniconda3/envs/ecommerce-chatbot/lib/python3.11/site-packages\n",
      "Requires: botocore, jmespath, s3transfer\n",
      "Required-by: \n"
     ]
    }
   ],
   "source": [
    "!pip show boto3"
   ]
  },
  {
   "cell_type": "code",
   "execution_count": 10,
   "id": "111a4d02",
   "metadata": {},
   "outputs": [
    {
     "name": "stdout",
     "output_type": "stream",
     "text": [
      "Name: ipython\n",
      "Version: 9.5.0\n",
      "Summary: IPython: Productive Interactive Computing\n",
      "Home-page: https://ipython.org\n",
      "Author: The IPython Development Team\n",
      "Author-email: ipython-dev@python.org\n",
      "License: BSD-3-Clause\n",
      "Location: /Users/ryanakmalpasya/miniconda3/envs/ecommerce-chatbot/lib/python3.11/site-packages\n",
      "Requires: decorator, ipython-pygments-lexers, jedi, matplotlib-inline, pexpect, prompt_toolkit, pygments, stack_data, traitlets, typing_extensions\n",
      "Required-by: great-expectations, ipykernel, ipywidgets\n"
     ]
    }
   ],
   "source": [
    "!pip show IPython"
   ]
  },
  {
   "cell_type": "code",
   "execution_count": null,
   "id": "94073fa2",
   "metadata": {},
   "outputs": [
    {
     "name": "stdout",
     "output_type": "stream",
     "text": [
      "Raw Intent (train)\n"
     ]
    },
    {
     "ename": "TypeError",
     "evalue": "'module' object is not callable",
     "output_type": "error",
     "traceback": [
      "\u001b[31m---------------------------------------------------------------------------\u001b[39m",
      "\u001b[31mTypeError\u001b[39m                                 Traceback (most recent call last)",
      "\u001b[36mCell\u001b[39m\u001b[36m \u001b[39m\u001b[32mIn[11]\u001b[39m\u001b[32m, line 30\u001b[39m\n\u001b[32m     28\u001b[39m \u001b[38;5;28mprint\u001b[39m(\u001b[33m\"\u001b[39m\u001b[33mRaw Intent (train)\u001b[39m\u001b[33m\"\u001b[39m)\n\u001b[32m     29\u001b[39m df_intent_raw = load_jsonl_from_minio(BUCKET_NAME, \u001b[33m\"\u001b[39m\u001b[33mintent_clinc150/train.jsonl\u001b[39m\u001b[33m\"\u001b[39m)\n\u001b[32m---> \u001b[39m\u001b[32m30\u001b[39m \u001b[43mdisplay\u001b[49m\u001b[43m(\u001b[49m\u001b[43mdf_intent_raw\u001b[49m\u001b[43m)\u001b[49m\n\u001b[32m     32\u001b[39m \u001b[38;5;66;03m# --- Raw NER ---\u001b[39;00m\n\u001b[32m     33\u001b[39m \u001b[38;5;28mprint\u001b[39m(\u001b[33m\"\u001b[39m\u001b[33mRaw NER (train)\u001b[39m\u001b[33m\"\u001b[39m)\n",
      "\u001b[31mTypeError\u001b[39m: 'module' object is not callable"
     ]
    }
   ],
   "source": [
    "import boto3\n",
    "import json\n",
    "import pandas as pd\n",
    "from IPython.display import display\n",
    "\n",
    "# --- MinIO Config ---\n",
    "MINIO_ENDPOINT = \"http://localhost:9000\"\n",
    "MINIO_ACCESS_KEY = \"minioadmin\"\n",
    "MINIO_SECRET_KEY = \"minioadmin\"\n",
    "BUCKET_NAME = \"chatbot-data\"\n",
    "\n",
    "# --- Connect to MinIO ---\n",
    "s3 = boto3.client(\n",
    "    \"s3\",\n",
    "    endpoint_url=MINIO_ENDPOINT,\n",
    "    aws_access_key_id=MINIO_ACCESS_KEY,\n",
    "    aws_secret_access_key=MINIO_SECRET_KEY\n",
    ")\n",
    "\n",
    "def load_jsonl_from_minio(bucket, key, n=5):\n",
    "    \"\"\"Load a JSONL file from MinIO and show first n records as DataFrame\"\"\"\n",
    "    obj = s3.get_object(Bucket=bucket, Key=key)\n",
    "    lines = obj[\"Body\"].read().decode(\"utf-8\").splitlines()\n",
    "    data = [json.loads(line) for line in lines]\n",
    "    return pd.DataFrame(data).head(n)\n",
    "\n",
    "# --- Raw Intent ---\n",
    "print(\"Raw Intent (train)\")\n",
    "df_intent_raw = load_jsonl_from_minio(BUCKET_NAME, \"intent_clinc150/train.jsonl\")\n",
    "display(df_intent_raw)\n",
    "\n",
    "# --- Raw NER ---\n",
    "print(\"Raw NER (train)\")\n",
    "df_ner_raw = load_jsonl_from_minio(BUCKET_NAME, \"conll2003hf/train.jsonl\")\n",
    "print(df_ner_raw)\n",
    "\n",
    "# --- Processed Intent ---\n",
    "print(\"Processed Intent (train)\")\n",
    "df_intent_proc = load_jsonl_from_minio(BUCKET_NAME, \"processed/intent_clinc150/train.jsonl\")\n",
    "print(df_intent_proc)\n",
    "\n",
    "# --- Processed NER ---\n",
    "print(\"Processed NER (train)\")\n",
    "df_ner_proc = load_jsonl_from_minio(BUCKET_NAME, \"processed/conll2003hf/train.jsonl\")\n",
    "print(df_ner_proc)"
   ]
  },
  {
   "cell_type": "code",
   "execution_count": null,
   "id": "e827e393",
   "metadata": {},
   "outputs": [],
   "source": []
  }
 ],
 "metadata": {
  "kernelspec": {
   "display_name": "ecommerce-chatbot",
   "language": "python",
   "name": "python3"
  },
  "language_info": {
   "codemirror_mode": {
    "name": "ipython",
    "version": 3
   },
   "file_extension": ".py",
   "mimetype": "text/x-python",
   "name": "python",
   "nbconvert_exporter": "python",
   "pygments_lexer": "ipython3",
   "version": "3.11.13"
  }
 },
 "nbformat": 4,
 "nbformat_minor": 5
}
