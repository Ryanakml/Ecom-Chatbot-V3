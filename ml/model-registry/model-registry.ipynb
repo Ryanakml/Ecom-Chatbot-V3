{
 "cells": [
  {
   "cell_type": "markdown",
   "id": "09cdc1b1",
   "metadata": {},
   "source": [
    "**inten-classification #1 :**\n",
    "\n",
    "run_id = 0e424f431a3c49ea91875fd20e3ce9b2\n"
   ]
  },
  {
   "cell_type": "code",
   "execution_count": 8,
   "id": "88651eca",
   "metadata": {},
   "outputs": [],
   "source": [
    "import mlflow\n",
    "mlflow.set_tracking_uri(\"http://localhost:5001\")"
   ]
  },
  {
   "cell_type": "code",
   "execution_count": null,
   "id": "8dc0a4c2",
   "metadata": {},
   "outputs": [
    {
     "name": "stdout",
     "output_type": "stream",
     "text": [
      "ner-training\n"
     ]
    }
   ],
   "source": [
    "from mlflow.tracking import MlflowClient\n",
    "\n",
    "client = MlflowClient()\n",
    "models = client.search_registered_models()\n",
    "for m in models:\n",
    "    print(m.name)"
   ]
  },
  {
   "cell_type": "code",
   "execution_count": 17,
   "id": "92bae084",
   "metadata": {},
   "outputs": [
    {
     "name": "stderr",
     "output_type": "stream",
     "text": [
      "Registered model 'intent-classification' already exists. Creating a new version of this model...\n",
      "2025/09/21 15:55:38 INFO mlflow.store.model_registry.abstract_store: Waiting up to 300 seconds for model version to finish creation. Model name: intent-classification, version 2\n"
     ]
    },
    {
     "name": "stdout",
     "output_type": "stream",
     "text": [
      "<ModelVersion: aliases=[], creation_timestamp=1758444938442, current_stage='None', description='', last_updated_timestamp=1758444938442, name='intent-classification', run_id='0e424f431a3c49ea91875fd20e3ce9b2', run_link='', source='s3://mlflow/1/0e424f431a3c49ea91875fd20e3ce9b2/artifacts/model', status='READY', status_message='', tags={}, user_id='', version='2'>\n"
     ]
    },
    {
     "name": "stderr",
     "output_type": "stream",
     "text": [
      "Created version '2' of model 'intent-classification'.\n"
     ]
    }
   ],
   "source": [
    "run_id = \"0e424f431a3c49ea91875fd20e3ce9b2\"\n",
    "\n",
    "mlflow.set_tracking_uri(\"http://localhost:5001\")\n",
    "client = MlflowClient()\n",
    "\n",
    "result = mlflow.register_model(\n",
    "    f\"runs:/{run_id}/model\",\n",
    "    \"intent-classification\"\n",
    ")\n",
    "print(result)"
   ]
  },
  {
   "cell_type": "code",
   "execution_count": 18,
   "id": "662aaf17",
   "metadata": {},
   "outputs": [
    {
     "name": "stdout",
     "output_type": "stream",
     "text": [
      "intent-classification\n"
     ]
    }
   ],
   "source": [
    "for m in client.search_registered_models():\n",
    "    print(m.name)"
   ]
  },
  {
   "cell_type": "markdown",
   "id": "353d89a6",
   "metadata": {},
   "source": [
    "**ner training #1 :**\n",
    "\n",
    "run_id = b69e9e3aeb644f1c9fafc82960211760\n"
   ]
  },
  {
   "cell_type": "code",
   "execution_count": 21,
   "id": "4f7c94d2",
   "metadata": {},
   "outputs": [
    {
     "name": "stderr",
     "output_type": "stream",
     "text": [
      "Registered model 'ner-training' already exists. Creating a new version of this model...\n",
      "2025/09/21 15:58:43 INFO mlflow.store.model_registry.abstract_store: Waiting up to 300 seconds for model version to finish creation. Model name: ner-training, version 2\n"
     ]
    },
    {
     "name": "stdout",
     "output_type": "stream",
     "text": [
      "<ModelVersion: aliases=[], creation_timestamp=1758444938442, current_stage='None', description='', last_updated_timestamp=1758444938442, name='intent-classification', run_id='0e424f431a3c49ea91875fd20e3ce9b2', run_link='', source='s3://mlflow/1/0e424f431a3c49ea91875fd20e3ce9b2/artifacts/model', status='READY', status_message='', tags={}, user_id='', version='2'>\n"
     ]
    },
    {
     "name": "stderr",
     "output_type": "stream",
     "text": [
      "Created version '2' of model 'ner-training'.\n"
     ]
    }
   ],
   "source": [
    "run_id = \"b69e9e3aeb644f1c9fafc82960211760\"\n",
    "\n",
    "mlflow.register_model(\n",
    "    \n",
    "    f\"runs:/{run_id}/model\",   # path model di run\n",
    "    \"ner-training\"             # nama registry\n",
    ")\n",
    "print(result)"
   ]
  },
  {
   "cell_type": "code",
   "execution_count": 22,
   "id": "047040b6",
   "metadata": {},
   "outputs": [
    {
     "name": "stdout",
     "output_type": "stream",
     "text": [
      "intent-classification\n",
      "ner-training\n"
     ]
    }
   ],
   "source": [
    "for m in client.search_registered_models():\n",
    "    print(m.name)"
   ]
  },
  {
   "cell_type": "code",
   "execution_count": 23,
   "id": "adcb27fd",
   "metadata": {},
   "outputs": [
    {
     "name": "stdout",
     "output_type": "stream",
     "text": [
      "2 None READY s3://mlflow/1/0e424f431a3c49ea91875fd20e3ce9b2/artifacts/model\n",
      "1 None READY s3://mlflow/1/0e424f431a3c49ea91875fd20e3ce9b2/artifacts/model\n",
      "2 None READY s3://mlflow/2/b69e9e3aeb644f1c9fafc82960211760/artifacts/model\n",
      "1 None READY s3://mlflow/2/b69e9e3aeb644f1c9fafc82960211760/artifacts/model\n"
     ]
    }
   ],
   "source": [
    "for mv in client.search_model_versions(\"name='intent-classification'\"):\n",
    "    print(mv.version, mv.current_stage, mv.status, mv.source)\n",
    "\n",
    "for mv in client.search_model_versions(\"name='ner-training'\"):\n",
    "    print(mv.version, mv.current_stage, mv.status, mv.source)"
   ]
  },
  {
   "cell_type": "code",
   "execution_count": 24,
   "id": "27eb0583",
   "metadata": {},
   "outputs": [
    {
     "name": "stderr",
     "output_type": "stream",
     "text": [
      "/var/folders/fz/vv4pwkl920qbrm78wf1yyykr0000gn/T/ipykernel_12722/1570814213.py:6: FutureWarning: ``mlflow.tracking.client.MlflowClient.transition_model_version_stage`` is deprecated since 2.9.0. Model registry stages will be removed in a future major release. To learn more about the deprecation of model registry stages, see our migration guide here: https://mlflow.org/docs/2.13.2/model-registry.html#migrating-from-stages\n",
      "  client.transition_model_version_stage(\n",
      "/var/folders/fz/vv4pwkl920qbrm78wf1yyykr0000gn/T/ipykernel_12722/1570814213.py:13: FutureWarning: ``mlflow.tracking.client.MlflowClient.transition_model_version_stage`` is deprecated since 2.9.0. Model registry stages will be removed in a future major release. To learn more about the deprecation of model registry stages, see our migration guide here: https://mlflow.org/docs/2.13.2/model-registry.html#migrating-from-stages\n",
      "  client.transition_model_version_stage(\n"
     ]
    },
    {
     "data": {
      "text/plain": [
       "<ModelVersion: aliases=[], creation_timestamp=1758445123721, current_stage='Production', description='', last_updated_timestamp=1758445214797, name='ner-training', run_id='b69e9e3aeb644f1c9fafc82960211760', run_link='', source='s3://mlflow/2/b69e9e3aeb644f1c9fafc82960211760/artifacts/model', status='READY', status_message='', tags={}, user_id='', version='2'>"
      ]
     },
     "execution_count": 24,
     "metadata": {},
     "output_type": "execute_result"
    }
   ],
   "source": [
    "from mlflow.tracking import MlflowClient\n",
    "\n",
    "client = MlflowClient()\n",
    "\n",
    "# Promote intent-classification v2\n",
    "client.transition_model_version_stage(\n",
    "    name=\"intent-classification\",\n",
    "    version=2,\n",
    "    stage=\"Production\"\n",
    ")\n",
    "\n",
    "# Promote ner-training v2\n",
    "client.transition_model_version_stage(\n",
    "    name=\"ner-training\",\n",
    "    version=2,\n",
    "    stage=\"Production\"\n",
    ")"
   ]
  },
  {
   "cell_type": "code",
   "execution_count": 25,
   "id": "883f07fa",
   "metadata": {},
   "outputs": [
    {
     "name": "stdout",
     "output_type": "stream",
     "text": [
      "2 Production\n",
      "1 None\n",
      "2 Production\n",
      "1 None\n"
     ]
    }
   ],
   "source": [
    "for mv in client.search_model_versions(\"name='intent-classification'\"):\n",
    "    print(mv.version, mv.current_stage)\n",
    "\n",
    "for mv in client.search_model_versions(\"name='ner-training'\"):\n",
    "    print(mv.version, mv.current_stage)"
   ]
  },
  {
   "cell_type": "code",
   "execution_count": null,
   "id": "81170766",
   "metadata": {},
   "outputs": [],
   "source": []
  }
 ],
 "metadata": {
  "kernelspec": {
   "display_name": "ecommerce-chatbot",
   "language": "python",
   "name": "python3"
  },
  "language_info": {
   "codemirror_mode": {
    "name": "ipython",
    "version": 3
   },
   "file_extension": ".py",
   "mimetype": "text/x-python",
   "name": "python",
   "nbconvert_exporter": "python",
   "pygments_lexer": "ipython3",
   "version": "3.11.13"
  }
 },
 "nbformat": 4,
 "nbformat_minor": 5
}
